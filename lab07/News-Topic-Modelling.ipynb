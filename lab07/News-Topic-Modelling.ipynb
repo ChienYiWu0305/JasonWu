{
 "cells": [
  {
   "cell_type": "markdown",
   "metadata": {},
   "source": [
    "# Topic Modelling for News"
   ]
  },
  {
   "cell_type": "markdown",
   "metadata": {},
   "source": [
    "![](https://images.unsplash.com/photo-1495020689067-958852a7765e?ixlib=rb-1.2.1&ixid=eyJhcHBfaWQiOjEyMDd9&auto=format&fit=crop&w=1050&q=80)\n",
    "\n",
    "Photo by [Roman Kraft](https://unsplash.com/photos/_Zua2hyvTBk)"
   ]
  },
  {
   "cell_type": "markdown",
   "metadata": {},
   "source": [
    "This exercise is about modelling the main topics of a database of News headlines."
   ]
  },
  {
   "cell_type": "markdown",
   "metadata": {},
   "source": [
    "Begin by importing the needed libraries:"
   ]
  },
  {
   "cell_type": "code",
   "execution_count": 1,
   "metadata": {},
   "outputs": [],
   "source": [
    "# TODO: import needed libraries\n",
    "import nltk\n",
    "import numpy as np\n",
    "import pandas as pd"
   ]
  },
  {
   "cell_type": "markdown",
   "metadata": {},
   "source": [
    "Load the data in the file `random_headlines.csv`"
   ]
  },
  {
   "cell_type": "code",
   "execution_count": 3,
   "metadata": {
    "scrolled": true
   },
   "outputs": [
    {
     "name": "stdout",
     "output_type": "stream",
     "text": [
      "(20000, 2)\n"
     ]
    },
    {
     "data": {
      "text/html": [
       "<div>\n",
       "<style scoped>\n",
       "    .dataframe tbody tr th:only-of-type {\n",
       "        vertical-align: middle;\n",
       "    }\n",
       "\n",
       "    .dataframe tbody tr th {\n",
       "        vertical-align: top;\n",
       "    }\n",
       "\n",
       "    .dataframe thead th {\n",
       "        text-align: right;\n",
       "    }\n",
       "</style>\n",
       "<table border=\"1\" class=\"dataframe\">\n",
       "  <thead>\n",
       "    <tr style=\"text-align: right;\">\n",
       "      <th></th>\n",
       "      <th>publish_date</th>\n",
       "      <th>headline_text</th>\n",
       "    </tr>\n",
       "  </thead>\n",
       "  <tbody>\n",
       "    <tr>\n",
       "      <th>0</th>\n",
       "      <td>20120305</td>\n",
       "      <td>ute driver hurt in intersection crash</td>\n",
       "    </tr>\n",
       "    <tr>\n",
       "      <th>1</th>\n",
       "      <td>20081128</td>\n",
       "      <td>6yo dies in cycling accident</td>\n",
       "    </tr>\n",
       "    <tr>\n",
       "      <th>2</th>\n",
       "      <td>20090325</td>\n",
       "      <td>bumper olive harvest expected</td>\n",
       "    </tr>\n",
       "    <tr>\n",
       "      <th>3</th>\n",
       "      <td>20100201</td>\n",
       "      <td>replica replaces northernmost sign</td>\n",
       "    </tr>\n",
       "    <tr>\n",
       "      <th>4</th>\n",
       "      <td>20080225</td>\n",
       "      <td>woods targets perfect season</td>\n",
       "    </tr>\n",
       "  </tbody>\n",
       "</table>\n",
       "</div>"
      ],
      "text/plain": [
       "   publish_date                          headline_text\n",
       "0      20120305  ute driver hurt in intersection crash\n",
       "1      20081128           6yo dies in cycling accident\n",
       "2      20090325          bumper olive harvest expected\n",
       "3      20100201     replica replaces northernmost sign\n",
       "4      20080225           woods targets perfect season"
      ]
     },
     "execution_count": 3,
     "metadata": {},
     "output_type": "execute_result"
    }
   ],
   "source": [
    "# TODO: load the dataset\n",
    "df = pd.read_csv('random_headlines.csv')\n",
    "print(df.shape)\n",
    "df.head()"
   ]
  },
  {
   "cell_type": "markdown",
   "metadata": {},
   "source": [
    "This is always a good idea to perform some EDA (exploratory data analytics) on a dataset..."
   ]
  },
  {
   "cell_type": "code",
   "execution_count": 4,
   "metadata": {},
   "outputs": [
    {
     "name": "stdout",
     "output_type": "stream",
     "text": [
      "<class 'pandas.core.frame.DataFrame'>\n",
      "RangeIndex: 20000 entries, 0 to 19999\n",
      "Data columns (total 2 columns):\n",
      " #   Column         Non-Null Count  Dtype \n",
      "---  ------         --------------  ----- \n",
      " 0   publish_date   20000 non-null  int64 \n",
      " 1   headline_text  20000 non-null  object\n",
      "dtypes: int64(1), object(1)\n",
      "memory usage: 312.6+ KB\n"
     ]
    }
   ],
   "source": [
    "# TODO: Perform a short EDA\n",
    "df.info()"
   ]
  },
  {
   "cell_type": "markdown",
   "metadata": {},
   "source": [
    "Now perform all the needed preprocessing on those headlines: case lowering, tokenization, punctuation removal, stopwords removal, stemming/lemmatization."
   ]
  },
  {
   "cell_type": "code",
   "execution_count": 6,
   "metadata": {},
   "outputs": [
    {
     "data": {
      "text/plain": [
       "0    [ute, driver, hurt, intersect, crash]\n",
       "1                       [die, cycl, accid]\n",
       "2          [bumper, oliv, harvest, expect]\n",
       "3    [replica, replac, northernmost, sign]\n",
       "4          [wood, target, perfect, season]\n",
       "Name: stemmed, dtype: object"
      ]
     },
     "execution_count": 6,
     "metadata": {},
     "output_type": "execute_result"
    }
   ],
   "source": [
    "# TODO: Preprocess the input data\n",
    "\n",
    "#tokenize\n",
    "df[\"tokens\"] = df[\"headline_text\"].apply(lambda row: nltk.word_tokenize(row))\n",
    "\n",
    "#pinctuation\n",
    "df[\"alphanumeric\"] = df[\"tokens\"].apply(lambda row: [word for word in row if word.isalpha()])\n",
    "\n",
    "#remove stopwords\n",
    "stop = nltk.corpus.stopwords.words('english')\n",
    "df[\"stop\"] = df[\"alphanumeric\"].apply(lambda row: [word for word in row if word not in stop])\n",
    "\n",
    "#stemming\n",
    "stemmer = nltk.PorterStemmer()\n",
    "df[\"stemmed\"] = df[\"stop\"].apply(lambda row: [stemmer.stem(word) for word in row])\n",
    "\n",
    "df[\"stemmed\"].head()"
   ]
  },
  {
   "cell_type": "markdown",
   "metadata": {},
   "source": [
    "Now use Gensim to compute a BOW"
   ]
  },
  {
   "cell_type": "code",
   "execution_count": 9,
   "metadata": {},
   "outputs": [
    {
     "name": "stdout",
     "output_type": "stream",
     "text": [
      "(20000,)\n"
     ]
    },
    {
     "name": "stderr",
     "output_type": "stream",
     "text": [
      "/opt/anaconda3/lib/python3.9/site-packages/numpy/core/_asarray.py:102: VisibleDeprecationWarning: Creating an ndarray from ragged nested sequences (which is a list-or-tuple of lists-or-tuples-or ndarrays with different lengths or shapes) is deprecated. If you meant to do this, you must specify 'dtype=object' when creating the ndarray.\n",
      "  return array(a, dtype, copy=False, order=order)\n"
     ]
    },
    {
     "data": {
      "text/plain": [
       "[[(0, 1), (1, 1), (2, 1), (3, 1), (4, 1)], [(5, 1), (6, 1), (7, 1)]]"
      ]
     },
     "execution_count": 9,
     "metadata": {},
     "output_type": "execute_result"
    }
   ],
   "source": [
    "# TODO: Compute the BOW using Gensim\n",
    "from gensim.corpora import Dictionary\n",
    "\n",
    "dictionary = Dictionary(df[\"stemmed\"])\n",
    "corpus = [dictionary.doc2bow(line) for line in df[\"stemmed\"]]\n",
    "print(np.shape(corpus))\n",
    "corpus[0:2]"
   ]
  },
  {
   "cell_type": "code",
   "execution_count": 7,
   "metadata": {},
   "outputs": [
    {
     "name": "stdout",
     "output_type": "stream",
     "text": [
      "Collecting gensim\n",
      "  Downloading gensim-4.2.0-cp39-cp39-macosx_10_9_x86_64.whl (24.0 MB)\n",
      "\u001b[K     |████████████████████████████████| 24.0 MB 4.0 MB/s eta 0:00:01\n",
      "\u001b[?25hCollecting smart-open>=1.8.1\n",
      "  Downloading smart_open-6.0.0-py3-none-any.whl (58 kB)\n",
      "\u001b[K     |████████████████████████████████| 58 kB 5.2 MB/s eta 0:00:01\n",
      "\u001b[?25hRequirement already satisfied: numpy>=1.17.0 in /opt/anaconda3/lib/python3.9/site-packages (from gensim) (1.20.3)\n",
      "Requirement already satisfied: scipy>=0.18.1 in /opt/anaconda3/lib/python3.9/site-packages (from gensim) (1.7.1)\n",
      "Installing collected packages: smart-open, gensim\n",
      "Successfully installed gensim-4.2.0 smart-open-6.0.0\n"
     ]
    }
   ],
   "source": [
    "!pip install --upgrade gensim"
   ]
  },
  {
   "cell_type": "markdown",
   "metadata": {},
   "source": [
    "Compute the TF-IDF using Gensim"
   ]
  },
  {
   "cell_type": "code",
   "execution_count": 10,
   "metadata": {},
   "outputs": [
    {
     "name": "stdout",
     "output_type": "stream",
     "text": [
      "(20000,)\n"
     ]
    }
   ],
   "source": [
    "# TODO: Compute TF-IDF\n",
    "from gensim.models import TfidfModel\n",
    "\n",
    "tfidf_model = TfidfModel(corpus)\n",
    "tf_idf = tfidf_model[corpus]\n",
    "print(np.shape(tf_idf))"
   ]
  },
  {
   "cell_type": "markdown",
   "metadata": {},
   "source": [
    "Finally compute the **LSA** (also called LSI) using Gensim, for a given number of Topics that you choose yourself"
   ]
  },
  {
   "cell_type": "code",
   "execution_count": 11,
   "metadata": {},
   "outputs": [],
   "source": [
    "# TODO: Compute LSA\n",
    "from gensim.models import LsiModel\n",
    "\n",
    "lsi = LsiModel(corpus=corpus, num_topics=4, id2word=dictionary)"
   ]
  },
  {
   "cell_type": "markdown",
   "metadata": {},
   "source": [
    "For each of the topic, show the most significant words."
   ]
  },
  {
   "cell_type": "code",
   "execution_count": 13,
   "metadata": {},
   "outputs": [
    {
     "data": {
      "text/plain": [
       "[(0, '-0.752*\"polic\" + -0.405*\"man\" + -0.207*\"charg\" + -0.133*\"new\"'),\n",
       " (1, '0.668*\"man\" + -0.575*\"polic\" + 0.329*\"charg\" + 0.167*\"court\"'),\n",
       " (2, '-0.656*\"new\" + -0.296*\"plan\" + -0.241*\"say\" + 0.241*\"man\"'),\n",
       " (3, '-0.701*\"new\" + 0.345*\"say\" + 0.335*\"plan\" + 0.268*\"govt\"')]"
      ]
     },
     "execution_count": 13,
     "metadata": {},
     "output_type": "execute_result"
    }
   ],
   "source": [
    "# TODO: Print the 3 or 4 most significant words of each topic\n",
    "lsi.print_topics(num_words=4)"
   ]
  },
  {
   "cell_type": "markdown",
   "metadata": {},
   "source": [
    "What do you think about those results?"
   ]
  },
  {
   "cell_type": "markdown",
   "metadata": {},
   "source": [
    "Now let's try to use LDA instead of LSA using Gensim"
   ]
  },
  {
   "cell_type": "code",
   "execution_count": 14,
   "metadata": {},
   "outputs": [],
   "source": [
    "# TODO: Compute LDA\n",
    "from gensim.models import LdaModel\n",
    "\n",
    "lda = LdaModel(corpus=corpus, num_topics=4, id2word=dictionary)"
   ]
  },
  {
   "cell_type": "code",
   "execution_count": 15,
   "metadata": {
    "scrolled": true
   },
   "outputs": [
    {
     "data": {
      "text/plain": [
       "[(0, '0.011*\"interview\" + 0.009*\"win\" + 0.005*\"busi\" + 0.005*\"second\"'),\n",
       " (1, '0.014*\"man\" + 0.010*\"polic\" + 0.009*\"charg\" + 0.009*\"court\"'),\n",
       " (2, '0.009*\"polic\" + 0.006*\"kill\" + 0.005*\"murder\" + 0.005*\"plan\"'),\n",
       " (3, '0.009*\"new\" + 0.007*\"govt\" + 0.006*\"call\" + 0.005*\"report\"')]"
      ]
     },
     "execution_count": 15,
     "metadata": {},
     "output_type": "execute_result"
    }
   ],
   "source": [
    "# TODO: print the most frequent words of each topic\n",
    "lda.print_topics(num_words=5)"
   ]
  },
  {
   "cell_type": "code",
   "execution_count": 21,
   "metadata": {},
   "outputs": [
    {
     "name": "stdout",
     "output_type": "stream",
     "text": [
      "Collecting pyLDAvis\n",
      "  Downloading pyLDAvis-3.3.1.tar.gz (1.7 MB)\n",
      "\u001b[K     |████████████████████████████████| 1.7 MB 1.9 MB/s eta 0:00:01\n",
      "\u001b[?25h  Installing build dependencies ... \u001b[?25ldone\n",
      "\u001b[?25h  Getting requirements to build wheel ... \u001b[?25ldone\n",
      "\u001b[?25h  Installing backend dependencies ... \u001b[?25ldone\n",
      "\u001b[?25h    Preparing wheel metadata ... \u001b[?25ldone\n",
      "\u001b[?25hCollecting funcy\n",
      "  Downloading funcy-1.17-py2.py3-none-any.whl (33 kB)\n",
      "Requirement already satisfied: pandas>=1.2.0 in /opt/anaconda3/lib/python3.9/site-packages (from pyLDAvis) (1.3.4)\n",
      "Requirement already satisfied: scikit-learn in /opt/anaconda3/lib/python3.9/site-packages (from pyLDAvis) (0.24.2)\n",
      "Requirement already satisfied: future in /opt/anaconda3/lib/python3.9/site-packages (from pyLDAvis) (0.18.2)\n",
      "Requirement already satisfied: numexpr in /opt/anaconda3/lib/python3.9/site-packages (from pyLDAvis) (2.7.3)\n",
      "Requirement already satisfied: joblib in /opt/anaconda3/lib/python3.9/site-packages (from pyLDAvis) (1.1.0)\n",
      "Requirement already satisfied: gensim in /opt/anaconda3/lib/python3.9/site-packages (from pyLDAvis) (4.2.0)\n",
      "Requirement already satisfied: scipy in /opt/anaconda3/lib/python3.9/site-packages (from pyLDAvis) (1.7.1)\n",
      "Requirement already satisfied: setuptools in /opt/anaconda3/lib/python3.9/site-packages (from pyLDAvis) (58.0.4)\n",
      "Requirement already satisfied: jinja2 in /opt/anaconda3/lib/python3.9/site-packages (from pyLDAvis) (2.11.3)\n",
      "Requirement already satisfied: numpy>=1.20.0 in /opt/anaconda3/lib/python3.9/site-packages (from pyLDAvis) (1.20.3)\n",
      "Collecting sklearn\n",
      "  Downloading sklearn-0.0.tar.gz (1.1 kB)\n",
      "Requirement already satisfied: python-dateutil>=2.7.3 in /opt/anaconda3/lib/python3.9/site-packages (from pandas>=1.2.0->pyLDAvis) (2.8.2)\n",
      "Requirement already satisfied: pytz>=2017.3 in /opt/anaconda3/lib/python3.9/site-packages (from pandas>=1.2.0->pyLDAvis) (2021.3)\n",
      "Requirement already satisfied: six>=1.5 in /opt/anaconda3/lib/python3.9/site-packages (from python-dateutil>=2.7.3->pandas>=1.2.0->pyLDAvis) (1.16.0)\n",
      "Requirement already satisfied: smart-open>=1.8.1 in /opt/anaconda3/lib/python3.9/site-packages (from gensim->pyLDAvis) (6.0.0)\n",
      "Requirement already satisfied: MarkupSafe>=0.23 in /opt/anaconda3/lib/python3.9/site-packages (from jinja2->pyLDAvis) (1.1.1)\n",
      "Requirement already satisfied: threadpoolctl>=2.0.0 in /opt/anaconda3/lib/python3.9/site-packages (from scikit-learn->pyLDAvis) (2.2.0)\n",
      "Building wheels for collected packages: pyLDAvis, sklearn\n",
      "  Building wheel for pyLDAvis (PEP 517) ... \u001b[?25ldone\n",
      "\u001b[?25h  Created wheel for pyLDAvis: filename=pyLDAvis-3.3.1-py2.py3-none-any.whl size=136900 sha256=0deb7a80c87451eb085c3a4e3e1baee3ccdb33602ec33c5cf62514d12f1900dd\n",
      "  Stored in directory: /Users/JasonWu/Library/Caches/pip/wheels/57/a4/86/d10c6c2e0bf149fbc0afb0aa5a6528ac35b30a133a0270c477\n",
      "  Building wheel for sklearn (setup.py) ... \u001b[?25ldone\n",
      "\u001b[?25h  Created wheel for sklearn: filename=sklearn-0.0-py2.py3-none-any.whl size=1309 sha256=0711acab224eb53ac8ffffd74a7be2d738d005440b903cdafb22d3c77c6c970c\n",
      "  Stored in directory: /Users/JasonWu/Library/Caches/pip/wheels/e4/7b/98/b6466d71b8d738a0c547008b9eb39bf8676d1ff6ca4b22af1c\n",
      "Successfully built pyLDAvis sklearn\n",
      "Installing collected packages: sklearn, funcy, pyLDAvis\n",
      "Successfully installed funcy-1.17 pyLDAvis-3.3.1 sklearn-0.0\n"
     ]
    }
   ],
   "source": [
    "!pip install pyLDAvis"
   ]
  },
  {
   "cell_type": "markdown",
   "metadata": {},
   "source": [
    "Now, how does it work with LDA?"
   ]
  },
  {
   "cell_type": "markdown",
   "metadata": {},
   "source": [
    "Let's make some visualization of the LDA results using pyLDAvis."
   ]
  },
  {
   "cell_type": "code",
   "execution_count": 23,
   "metadata": {},
   "outputs": [
    {
     "name": "stderr",
     "output_type": "stream",
     "text": [
      "/opt/anaconda3/lib/python3.9/site-packages/pyLDAvis/_prepare.py:246: FutureWarning: In a future version of pandas all arguments of DataFrame.drop except for the argument 'labels' will be keyword-only\n",
      "  default_term_info = default_term_info.sort_values(\n",
      "/opt/anaconda3/lib/python3.9/site-packages/past/builtins/misc.py:45: DeprecationWarning: the imp module is deprecated in favour of importlib; see the module's documentation for alternative uses\n",
      "  from imp import reload\n",
      "/opt/anaconda3/lib/python3.9/site-packages/past/builtins/misc.py:45: DeprecationWarning: the imp module is deprecated in favour of importlib; see the module's documentation for alternative uses\n",
      "  from imp import reload\n",
      "/opt/anaconda3/lib/python3.9/site-packages/past/builtins/misc.py:45: DeprecationWarning: the imp module is deprecated in favour of importlib; see the module's documentation for alternative uses\n",
      "  from imp import reload\n",
      "/opt/anaconda3/lib/python3.9/site-packages/past/builtins/misc.py:45: DeprecationWarning: the imp module is deprecated in favour of importlib; see the module's documentation for alternative uses\n",
      "  from imp import reload\n",
      "/opt/anaconda3/lib/python3.9/site-packages/past/builtins/misc.py:45: DeprecationWarning: the imp module is deprecated in favour of importlib; see the module's documentation for alternative uses\n",
      "  from imp import reload\n",
      "/opt/anaconda3/lib/python3.9/site-packages/past/builtins/misc.py:45: DeprecationWarning: the imp module is deprecated in favour of importlib; see the module's documentation for alternative uses\n",
      "  from imp import reload\n",
      "/opt/anaconda3/lib/python3.9/site-packages/past/builtins/misc.py:45: DeprecationWarning: the imp module is deprecated in favour of importlib; see the module's documentation for alternative uses\n",
      "  from imp import reload\n",
      "/opt/anaconda3/lib/python3.9/site-packages/past/builtins/misc.py:45: DeprecationWarning: the imp module is deprecated in favour of importlib; see the module's documentation for alternative uses\n",
      "  from imp import reload\n"
     ]
    },
    {
     "data": {
      "text/html": [
       "\n",
       "<link rel=\"stylesheet\" type=\"text/css\" href=\"https://cdn.jsdelivr.net/gh/bmabey/pyLDAvis@3.3.1/pyLDAvis/js/ldavis.v1.0.0.css\">\n",
       "\n",
       "\n",
       "<div id=\"ldavis_el301871402037669838089061936166\"></div>\n",
       "<script type=\"text/javascript\">\n",
       "\n",
       "var ldavis_el301871402037669838089061936166_data = {\"mdsDat\": {\"x\": [-0.07988657210132372, -0.01808168994610378, -0.12915367150977042, 0.22712193355719812], \"y\": [-0.025715929914554597, -0.19491658944032772, 0.15630950431167656, 0.0643230150432059], \"topics\": [1, 2, 3, 4], \"cluster\": [1, 1, 1, 1], \"Freq\": [26.80363267900065, 26.359923458532066, 24.34915248202848, 22.487291380438805]}, \"tinfo\": {\"Term\": [\"interview\", \"man\", \"court\", \"win\", \"charg\", \"miss\", \"busi\", \"news\", \"second\", \"rate\", \"murder\", \"accus\", \"road\", \"sex\", \"futur\", \"farmer\", \"studi\", \"death\", \"govt\", \"talk\", \"weather\", \"hit\", \"countri\", \"coast\", \"iraq\", \"take\", \"car\", \"face\", \"run\", \"budget\", \"west\", \"hour\", \"countri\", \"hand\", \"highway\", \"western\", \"research\", \"refus\", \"eye\", \"uni\", \"emerg\", \"board\", \"slow\", \"parent\", \"holiday\", \"scam\", \"updat\", \"form\", \"great\", \"palestinian\", \"pilbara\", \"histori\", \"mid\", \"korea\", \"forest\", \"controversi\", \"packag\", \"economi\", \"dept\", \"reef\", \"promis\", \"attempt\", \"road\", \"blast\", \"iraqi\", \"match\", \"inquest\", \"talk\", \"worri\", \"posit\", \"public\", \"central\", \"stage\", \"probe\", \"coast\", \"car\", \"north\", \"break\", \"murder\", \"mother\", \"wallabi\", \"kill\", \"death\", \"export\", \"crash\", \"driver\", \"mine\", \"take\", \"question\", \"gold\", \"fall\", \"die\", \"one\", \"polic\", \"share\", \"sa\", \"minist\", \"plan\", \"fire\", \"nsw\", \"say\", \"warn\", \"govt\", \"new\", \"us\", \"qld\", \"man\", \"wa\", \"charg\", \"iraq\", \"control\", \"clash\", \"slam\", \"hill\", \"wast\", \"sport\", \"tree\", \"illeg\", \"collaps\", \"figur\", \"condit\", \"defenc\", \"dam\", \"major\", \"militari\", \"sack\", \"jump\", \"zealand\", \"traffic\", \"ask\", \"point\", \"damag\", \"music\", \"grain\", \"survivor\", \"spring\", \"option\", \"keen\", \"campbel\", \"unit\", \"blaze\", \"young\", \"secur\", \"budget\", \"youth\", \"abbott\", \"age\", \"food\", \"delay\", \"airport\", \"impact\", \"drug\", \"review\", \"expect\", \"pay\", \"firefight\", \"care\", \"set\", \"health\", \"protest\", \"report\", \"servic\", \"govt\", \"hunter\", \"new\", \"continu\", \"may\", \"call\", \"fund\", \"council\", \"work\", \"boost\", \"say\", \"water\", \"seek\", \"sale\", \"help\", \"reject\", \"back\", \"us\", \"get\", \"polic\", \"author\", \"plane\", \"convict\", \"theft\", \"rape\", \"injuri\", \"level\", \"interest\", \"third\", \"candid\", \"marin\", \"bulldog\", \"gain\", \"mark\", \"member\", \"sea\", \"hawk\", \"quarter\", \"coalit\", \"await\", \"robberi\", \"gp\", \"edg\", \"blow\", \"sink\", \"brother\", \"neglect\", \"andrew\", \"africa\", \"breach\", \"rescu\", \"fine\", \"stab\", \"indonesian\", \"rate\", \"run\", \"list\", \"uk\", \"accus\", \"front\", \"make\", \"miss\", \"labor\", \"stock\", \"court\", \"man\", \"critic\", \"top\", \"fatal\", \"rural\", \"charg\", \"face\", \"hit\", \"assault\", \"asylum\", \"star\", \"cup\", \"beat\", \"polic\", \"search\", \"jail\", \"found\", \"rise\", \"sydney\", \"woman\", \"hospit\", \"world\", \"say\", \"attack\", \"trial\", \"home\", \"australian\", \"new\", \"studi\", \"join\", \"island\", \"weather\", \"perth\", \"grant\", \"oil\", \"higher\", \"evid\", \"doubt\", \"se\", \"ad\", \"titl\", \"darwin\", \"revamp\", \"last\", \"futur\", \"earli\", \"replac\", \"fli\", \"class\", \"reveal\", \"sex\", \"peter\", \"summit\", \"angri\", \"roar\", \"sentenc\", \"quak\", \"policeman\", \"news\", \"team\", \"thousand\", \"second\", \"rail\", \"interview\", \"busi\", \"nz\", \"liber\", \"link\", \"red\", \"win\", \"tasmanian\", \"abc\", \"develop\", \"farmer\", \"power\", \"child\", \"commun\", \"back\", \"air\", \"plan\", \"nation\", \"chang\", \"urg\", \"open\", \"council\", \"take\", \"concern\", \"group\"], \"Freq\": [283.0, 466.0, 289.0, 260.0, 341.0, 185.0, 136.0, 121.0, 124.0, 132.0, 202.0, 152.0, 137.0, 106.0, 98.0, 159.0, 91.0, 207.0, 312.0, 129.0, 90.0, 201.0, 102.0, 142.0, 95.0, 225.0, 153.0, 245.0, 92.0, 104.0, 86.74379410166341, 78.04773252846668, 101.30676151735159, 51.313654323369555, 52.29460173317148, 44.5919885068258, 55.994197230417356, 35.20862509454203, 35.937661816166674, 34.11158703655847, 44.484515662110546, 30.169271680909457, 30.11081659498963, 27.88927363142162, 27.479617444132323, 27.23217892216698, 25.697705706025044, 33.675001814068864, 24.97110994842087, 27.918920540003413, 24.72491831889615, 25.39329908540218, 24.519891746865575, 49.07747517947157, 23.5432948552326, 23.90465356819153, 28.69146564458186, 31.46874488748153, 24.15453305417735, 25.705446363076202, 45.18429923066097, 42.427930646098005, 131.2207451762587, 41.89348917681775, 33.592959812866596, 41.99722934737186, 47.89877286947186, 119.45871114530271, 38.69973825495719, 36.78376237031686, 94.01757236636352, 44.25951480154784, 37.775680512837695, 103.31077216994346, 121.10617138389796, 128.51247558764018, 73.84938965876455, 54.447320715787114, 150.38452481060918, 50.606648702582824, 41.25812144829355, 174.12600993798287, 143.7029228166441, 55.63931147385107, 143.8117017771893, 81.80585674071102, 130.15736200974695, 142.8202830318976, 81.09322329730396, 81.57448216294863, 88.86155847950585, 96.55890882736018, 74.04041550142654, 259.82664646091337, 71.52973434726276, 100.01311781305004, 84.37095298526174, 146.99957197655073, 114.38363162220327, 94.42938940704799, 120.87073760301692, 94.40354239917743, 105.17267229821152, 118.63389899867536, 98.58374050288867, 92.57433998435872, 100.08479412048405, 85.2987369990138, 88.53668137438603, 94.31400632560073, 68.47069258582628, 62.09994088757138, 57.38680389299807, 62.47942709720674, 50.691402557802114, 58.66527240024048, 41.51970715275133, 41.45554225505452, 40.428538692546674, 40.63588692507744, 44.99497888259221, 58.707056244126065, 38.07775671613567, 38.199232727010084, 35.82384072139071, 36.14191991814268, 34.27747329826524, 30.96305614464846, 31.523070471831076, 30.449680294207933, 30.673531759834567, 55.42466329635649, 28.788010618334905, 42.01511897266058, 28.84469207744552, 28.075116283686647, 28.06054294030612, 26.468689307381155, 25.44007068219147, 59.35153866439565, 71.90472512254954, 43.5703708146713, 89.4063943758963, 98.45718675527363, 46.6650386989079, 59.3093077661225, 37.0294802909745, 36.81954103195805, 79.16770293027267, 45.07553682392315, 44.04752266663778, 118.01762331838255, 96.53625701731667, 61.528800573025016, 76.24664956192775, 53.665139081932246, 47.17248950457803, 139.77650335293444, 128.99785835870256, 84.2285411971796, 145.3280247377075, 89.42059937164763, 182.81361069345928, 59.99859007325856, 237.85456909793155, 104.16047365981375, 90.11935167595125, 152.58464933589468, 110.15129209404573, 141.5008362015545, 79.02634559223299, 84.78360644339566, 113.65954825218599, 91.23346787862744, 73.98962307609185, 66.68792783978938, 79.21513477113918, 70.1712371037954, 79.13747953505705, 78.45354299094976, 71.54145880167988, 73.15201945693518, 58.209907857453565, 47.36563645614447, 46.04302240378822, 43.49236623049765, 39.85040173306232, 40.17484859963732, 41.04138864027652, 38.62038500138275, 37.323368185815426, 36.10313726438294, 33.81175998684221, 38.89710677673496, 31.885380344995415, 40.52123138499202, 31.22234444387171, 43.60158634207248, 31.984366796463426, 29.03043345693444, 28.568450153561507, 30.069180492994334, 27.40908609943101, 28.0463241037637, 35.31194941670418, 26.62600607908326, 26.39574145638989, 25.77674606355197, 26.27822158182988, 25.343233215548675, 25.46812516409868, 24.23649297399645, 78.00372004435242, 60.563952126083194, 59.02906596455471, 37.19137461806086, 125.99226330931766, 87.9257871571949, 37.34262572978456, 43.861126968259846, 136.72567732975946, 44.19677589756047, 96.2788093782973, 157.61024239065236, 98.63382495766169, 46.031619681060505, 228.5936890504224, 345.8662108982881, 52.43208630844867, 105.32374800024513, 59.780604559065985, 91.17998637898852, 230.55603917873162, 171.45190892469773, 139.79062218030228, 75.28988366761943, 45.584089714070316, 56.89643401359852, 70.52601164977791, 49.711113415119456, 240.2055634788742, 83.17003459914828, 94.7593943937419, 82.2453525958732, 89.94529339682535, 93.66957211685902, 80.16389185356708, 78.69068683181287, 70.18487801375336, 97.23744072743398, 76.15647314623016, 71.59463957745405, 70.94042399207459, 67.33758237881574, 72.03078717852833, 91.17024351361738, 58.71170244070504, 61.81877274581859, 89.01059714648831, 68.66656690105238, 45.53349633744159, 42.29605452536114, 49.213366543194965, 39.56924563951148, 56.36936085315001, 36.940509473129566, 34.45519754174098, 53.026809665752175, 61.88785551748442, 34.27358736290407, 34.39602248894131, 96.16210088828282, 41.437587883197956, 28.768969950773897, 27.093824196357673, 27.37277120011928, 56.15768642790818, 103.54151170721047, 25.881832741412722, 25.70282773668808, 25.422605003335413, 26.284047452628897, 73.47496630328375, 24.56682142193322, 28.011812352619994, 117.5023765717165, 46.31680504933899, 37.50659769324715, 118.63853328827578, 67.84828439813437, 263.22058285800193, 126.6893914770636, 37.8894213146792, 59.20456378229573, 50.81917975152017, 53.38573282901402, 199.31004330228475, 51.097084685636865, 90.74633602786017, 57.24344242550778, 118.63506330378809, 92.97379749430353, 74.94030422628084, 64.50456759675227, 100.26598600965372, 57.79439646405562, 103.04535764040159, 72.43131743942868, 77.11650016338912, 74.34719471055134, 69.97433207645466, 77.68181757425904, 68.27146136084156, 60.90154197007139, 60.888505356524], \"Total\": [283.0, 466.0, 289.0, 260.0, 341.0, 185.0, 136.0, 121.0, 124.0, 132.0, 202.0, 152.0, 137.0, 106.0, 98.0, 159.0, 91.0, 207.0, 312.0, 129.0, 90.0, 201.0, 102.0, 142.0, 95.0, 225.0, 153.0, 245.0, 92.0, 104.0, 87.45194263662123, 79.02185400120703, 102.71094800798676, 52.04473387894779, 53.1773723866868, 45.39661565450333, 57.05896324969652, 35.92618515611683, 36.68095956669447, 34.81868768095332, 45.48501329459441, 30.88066742454211, 30.82156311104051, 28.596058335751728, 28.189409555762328, 27.963220345630152, 26.399420772549387, 34.60391567839887, 25.665920766297337, 28.695949350194056, 25.42474787469748, 26.11583295090911, 25.22631656520173, 50.502111502996776, 24.25179503074275, 24.62444631129504, 29.557843164985638, 32.423392138694624, 24.89547636934425, 26.50351534183769, 46.61136659332223, 43.78567875396694, 137.057337104395, 43.315544254146175, 34.68885993498704, 43.592019079271346, 50.01911727111413, 129.4310570283145, 40.33530414304684, 38.35533576758782, 103.89793818546491, 46.83109231589424, 39.61167808890909, 117.77069638605185, 142.2560859585973, 153.39495896759237, 83.12472397831422, 59.306172407477234, 202.5277634102803, 56.08857512905335, 44.15664555846488, 261.6587514183571, 207.23437715704662, 63.89395386615782, 214.8729880578014, 104.86448083420561, 197.75032386531828, 225.5058869099132, 105.32993171277181, 106.6862550838662, 119.93911474701018, 137.53468187626018, 96.65677245185111, 632.2012206429349, 92.70079138943328, 154.4324455700065, 130.0095432250267, 366.39372141126944, 250.43801683422777, 185.2516230566289, 384.98634152096844, 208.55316513740715, 312.6237022333436, 483.86722673148427, 262.64551522275383, 208.29133022116005, 466.55717240303136, 189.38047879898394, 341.3775353501892, 95.01485020311944, 69.17343030617516, 62.810125939696, 58.11578245658992, 63.30887691683665, 51.42731265195978, 59.53125021556125, 42.2317792037851, 42.18228341119825, 41.13843441564906, 41.36245948737562, 45.79989156977329, 59.78507683318432, 38.784887403269764, 38.917989791633744, 36.53352878510757, 36.872536068301926, 35.00248202872251, 31.66388595795091, 32.23684202099118, 31.14712007057906, 31.388249082248002, 56.76410955123653, 29.494853343373666, 43.06241226255606, 29.56533052111941, 28.777007170875276, 28.788485371479588, 27.175311759077044, 26.156537566652094, 61.10068926246781, 74.3193070381868, 44.842304262046774, 92.7210460414452, 104.51383018792876, 48.44377793848158, 62.701848665312745, 38.26136425931466, 38.07322397595792, 87.5850785441009, 47.53642261576748, 46.37038309716944, 138.6480910093477, 114.0506513721292, 67.96436275851079, 89.54220127467583, 58.807237560530986, 50.35858037863705, 197.9091983462956, 180.34090867634058, 108.2306096552638, 224.66811057138486, 118.30793480932375, 312.6237022333436, 70.09974597089939, 483.86722673148427, 164.11378829661658, 134.9698828742078, 314.50820752961005, 196.72884323373393, 330.051559627135, 119.34438277893817, 141.98098811913252, 384.98634152096844, 208.21970555148584, 119.26174129301448, 88.4394263116065, 159.4138759434603, 113.93752958393102, 230.9306944157155, 262.64551522275383, 179.02421168578812, 632.2012206429349, 58.92434264312251, 48.07723009854245, 46.77758375373328, 44.2129133637158, 40.54279705466752, 40.87565672866516, 41.758060210980574, 39.331493588399525, 38.037548794978484, 36.81956055556212, 34.51109102215488, 39.74321063386433, 32.593240466941985, 41.44516484921493, 31.951375458756527, 44.65496097923863, 32.761180864261306, 29.73589334016413, 29.283764044801366, 30.822564998884996, 28.102984050128505, 28.761289866638716, 36.24689804727188, 27.34545451629167, 27.11119618807403, 26.480724794824596, 27.007174079231724, 26.051062953859827, 26.191586955039813, 24.940675079590534, 80.49986809107533, 62.34282686595145, 60.900489915917014, 38.28769370143091, 132.65074668914832, 92.54037399300957, 38.63560086807488, 45.70699000809782, 152.63941199541875, 46.52553840449346, 107.6154385179763, 185.1206456020093, 112.12341936298148, 48.808863335674864, 289.1367452870642, 466.55717240303136, 56.47501099670208, 128.32092538202022, 66.44829939488464, 110.8972144660686, 341.3775353501892, 245.97112388740535, 201.5760373214484, 94.86301130057221, 48.600525126130584, 66.20288137442334, 93.04289788120208, 55.522712908858665, 632.2012206429349, 126.19159940162103, 158.1621551775219, 130.69434388369754, 155.68294247910478, 177.0431254579325, 145.76334701518599, 154.4782304214396, 122.00001969484387, 384.98634152096844, 171.24898969253476, 140.6729343269406, 163.98161081373868, 202.25628662529405, 483.86722673148427, 91.884332073817, 59.419366278208166, 62.65492057681504, 90.29804464954623, 69.689895174253, 46.26356824936161, 43.01400157724222, 50.064472870079385, 40.28708296865663, 57.44505076972674, 37.663488704934274, 35.170156660237, 54.12835638886835, 63.17779442889887, 34.99357938589539, 35.13160596663197, 98.34420669602125, 42.39673036552546, 29.470613215739714, 27.78725744926822, 28.100365924286738, 57.656416874065116, 106.3250078089162, 26.589772601707548, 26.413251190951392, 26.127584166301922, 27.013279255742663, 75.52279481849834, 25.267309781091495, 28.81664288244921, 121.12310008121224, 47.6652969735166, 38.67490481818586, 124.58464923376867, 70.63446078840705, 283.63633323920436, 136.2583859932563, 39.33889432128255, 62.64857532502777, 53.97263691014645, 57.50941253995473, 260.9317933446231, 55.942576101722764, 112.03299583087004, 64.32853459909472, 159.9551853444208, 118.93098508457112, 93.22510546193361, 78.85484029400509, 230.9306944157155, 76.94278393567862, 366.39372141126944, 143.21456401187228, 191.8239575890221, 217.85230009187643, 173.0300649222408, 330.051559627135, 225.5058869099132, 154.97685397675411, 157.38443527738534], \"Category\": [\"Default\", \"Default\", \"Default\", \"Default\", \"Default\", \"Default\", \"Default\", \"Default\", \"Default\", \"Default\", \"Default\", \"Default\", \"Default\", \"Default\", \"Default\", \"Default\", \"Default\", \"Default\", \"Default\", \"Default\", \"Default\", \"Default\", \"Default\", \"Default\", \"Default\", \"Default\", \"Default\", \"Default\", \"Default\", \"Default\", \"Topic1\", \"Topic1\", \"Topic1\", \"Topic1\", \"Topic1\", \"Topic1\", \"Topic1\", \"Topic1\", \"Topic1\", \"Topic1\", \"Topic1\", \"Topic1\", \"Topic1\", \"Topic1\", \"Topic1\", \"Topic1\", \"Topic1\", \"Topic1\", \"Topic1\", \"Topic1\", \"Topic1\", \"Topic1\", \"Topic1\", \"Topic1\", \"Topic1\", \"Topic1\", \"Topic1\", \"Topic1\", \"Topic1\", \"Topic1\", \"Topic1\", \"Topic1\", \"Topic1\", \"Topic1\", \"Topic1\", \"Topic1\", \"Topic1\", \"Topic1\", \"Topic1\", \"Topic1\", \"Topic1\", \"Topic1\", \"Topic1\", \"Topic1\", \"Topic1\", \"Topic1\", \"Topic1\", \"Topic1\", \"Topic1\", \"Topic1\", \"Topic1\", \"Topic1\", \"Topic1\", \"Topic1\", \"Topic1\", \"Topic1\", \"Topic1\", \"Topic1\", \"Topic1\", \"Topic1\", \"Topic1\", \"Topic1\", \"Topic1\", \"Topic1\", \"Topic1\", \"Topic1\", \"Topic1\", \"Topic1\", \"Topic1\", \"Topic1\", \"Topic1\", \"Topic1\", \"Topic1\", \"Topic1\", \"Topic1\", \"Topic1\", \"Topic1\", \"Topic1\", \"Topic1\", \"Topic2\", \"Topic2\", \"Topic2\", \"Topic2\", \"Topic2\", \"Topic2\", \"Topic2\", \"Topic2\", \"Topic2\", \"Topic2\", \"Topic2\", \"Topic2\", \"Topic2\", \"Topic2\", \"Topic2\", \"Topic2\", \"Topic2\", \"Topic2\", \"Topic2\", \"Topic2\", \"Topic2\", \"Topic2\", \"Topic2\", \"Topic2\", \"Topic2\", \"Topic2\", \"Topic2\", \"Topic2\", \"Topic2\", \"Topic2\", \"Topic2\", \"Topic2\", \"Topic2\", \"Topic2\", \"Topic2\", \"Topic2\", \"Topic2\", \"Topic2\", \"Topic2\", \"Topic2\", \"Topic2\", \"Topic2\", \"Topic2\", \"Topic2\", \"Topic2\", \"Topic2\", \"Topic2\", \"Topic2\", \"Topic2\", \"Topic2\", \"Topic2\", \"Topic2\", \"Topic2\", \"Topic2\", \"Topic2\", \"Topic2\", \"Topic2\", \"Topic2\", \"Topic2\", \"Topic2\", \"Topic2\", \"Topic2\", \"Topic2\", \"Topic2\", \"Topic2\", \"Topic2\", \"Topic2\", \"Topic2\", \"Topic2\", \"Topic2\", \"Topic2\", \"Topic2\", \"Topic2\", \"Topic3\", \"Topic3\", \"Topic3\", \"Topic3\", \"Topic3\", \"Topic3\", \"Topic3\", \"Topic3\", \"Topic3\", \"Topic3\", \"Topic3\", \"Topic3\", \"Topic3\", \"Topic3\", \"Topic3\", \"Topic3\", \"Topic3\", \"Topic3\", \"Topic3\", \"Topic3\", \"Topic3\", \"Topic3\", \"Topic3\", \"Topic3\", \"Topic3\", \"Topic3\", \"Topic3\", \"Topic3\", \"Topic3\", \"Topic3\", \"Topic3\", \"Topic3\", \"Topic3\", \"Topic3\", \"Topic3\", \"Topic3\", \"Topic3\", \"Topic3\", \"Topic3\", \"Topic3\", \"Topic3\", \"Topic3\", \"Topic3\", \"Topic3\", \"Topic3\", \"Topic3\", \"Topic3\", \"Topic3\", \"Topic3\", \"Topic3\", \"Topic3\", \"Topic3\", \"Topic3\", \"Topic3\", \"Topic3\", \"Topic3\", \"Topic3\", \"Topic3\", \"Topic3\", \"Topic3\", \"Topic3\", \"Topic3\", \"Topic3\", \"Topic3\", \"Topic3\", \"Topic3\", \"Topic3\", \"Topic3\", \"Topic3\", \"Topic3\", \"Topic3\", \"Topic3\", \"Topic3\", \"Topic4\", \"Topic4\", \"Topic4\", \"Topic4\", \"Topic4\", \"Topic4\", \"Topic4\", \"Topic4\", \"Topic4\", \"Topic4\", \"Topic4\", \"Topic4\", \"Topic4\", \"Topic4\", \"Topic4\", \"Topic4\", \"Topic4\", \"Topic4\", \"Topic4\", \"Topic4\", \"Topic4\", \"Topic4\", \"Topic4\", \"Topic4\", \"Topic4\", \"Topic4\", \"Topic4\", \"Topic4\", \"Topic4\", \"Topic4\", \"Topic4\", \"Topic4\", \"Topic4\", \"Topic4\", \"Topic4\", \"Topic4\", \"Topic4\", \"Topic4\", \"Topic4\", \"Topic4\", \"Topic4\", \"Topic4\", \"Topic4\", \"Topic4\", \"Topic4\", \"Topic4\", \"Topic4\", \"Topic4\", \"Topic4\", \"Topic4\", \"Topic4\", \"Topic4\", \"Topic4\", \"Topic4\", \"Topic4\", \"Topic4\", \"Topic4\", \"Topic4\", \"Topic4\", \"Topic4\"], \"logprob\": [30.0, 29.0, 28.0, 27.0, 26.0, 25.0, 24.0, 23.0, 22.0, 21.0, 20.0, 19.0, 18.0, 17.0, 16.0, 15.0, 14.0, 13.0, 12.0, 11.0, 10.0, 9.0, 8.0, 7.0, 6.0, 5.0, 4.0, 3.0, 2.0, 1.0, -5.7589, -5.8646, -5.6037, -6.2839, -6.265, -6.4243, -6.1966, -6.6606, -6.6401, -6.6923, -6.4268, -6.8151, -6.817, -6.8937, -6.9084, -6.9175, -6.9755, -6.7051, -7.0042, -6.8926, -7.0141, -6.9874, -7.0224, -6.3285, -7.0631, -7.0478, -6.8653, -6.7729, -7.0374, -6.9752, -6.4111, -6.4741, -5.345, -6.4868, -6.7076, -6.4843, -6.3528, -5.4389, -6.5661, -6.6168, -5.6784, -6.4318, -6.5902, -5.5842, -5.4252, -5.3659, -5.9199, -6.2247, -5.2087, -6.2978, -6.502, -5.0621, -5.2541, -6.203, -5.2534, -5.8175, -5.3531, -5.2603, -5.8263, -5.8204, -5.7348, -5.6517, -5.9173, -4.6619, -5.9518, -5.6166, -5.7867, -5.2315, -5.4823, -5.674, -5.4272, -5.6743, -5.5663, -5.4458, -5.631, -5.6939, -5.6159, -5.7757, -5.7385, -5.6586, -5.9788, -6.0765, -6.1554, -6.0704, -6.2794, -6.1334, -6.479, -6.4806, -6.5057, -6.5005, -6.3986, -6.1326, -6.5656, -6.5624, -6.6266, -6.6177, -6.6707, -6.7724, -6.7545, -6.7891, -6.7818, -6.1902, -6.8452, -6.4672, -6.8433, -6.8703, -6.8708, -6.9292, -6.9689, -6.1217, -5.9299, -6.4308, -5.712, -5.6156, -6.3622, -6.1224, -6.5935, -6.5992, -5.8336, -6.3969, -6.4199, -5.4344, -5.6353, -6.0857, -5.8712, -6.2224, -6.3514, -5.2652, -5.3454, -5.7717, -5.2262, -5.7118, -4.9967, -6.1109, -4.7335, -5.5593, -5.7041, -5.1775, -5.5033, -5.2529, -5.8354, -5.7651, -5.472, -5.6918, -5.9013, -6.0052, -5.833, -5.9543, -5.834, -5.8427, -5.9349, -5.9127, -6.0618, -6.268, -6.2963, -6.3533, -6.4407, -6.4326, -6.4113, -6.4721, -6.5062, -6.5395, -6.605, -6.4649, -6.6637, -6.424, -6.6847, -6.3508, -6.6606, -6.7575, -6.7735, -6.7224, -6.815, -6.792, -6.5616, -6.844, -6.8526, -6.8764, -6.8571, -6.8933, -6.8884, -6.938, -5.7691, -6.0222, -6.0478, -6.5098, -5.2896, -5.6494, -6.5057, -6.3448, -5.2079, -6.3372, -5.5586, -5.0657, -5.5344, -6.2965, -4.6939, -4.2798, -6.1663, -5.4688, -6.0352, -5.613, -4.6854, -4.9815, -5.1857, -5.8045, -6.3063, -6.0846, -5.8699, -6.2196, -4.6444, -5.705, -5.5745, -5.7161, -5.6267, -5.5861, -5.7418, -5.7603, -5.8747, -5.5487, -5.7931, -5.8548, -5.864, -5.9161, -5.8488, -5.5336, -5.9737, -5.9221, -5.5575, -5.817, -6.2279, -6.3016, -6.1501, -6.3683, -6.0144, -6.437, -6.5066, -6.0755, -5.921, -6.5119, -6.5084, -5.4803, -6.3221, -6.687, -6.747, -6.7368, -6.0181, -5.4063, -6.7928, -6.7997, -6.8107, -6.7773, -5.7494, -6.8449, -6.7137, -5.2798, -6.2108, -6.4218, -5.2702, -5.829, -4.4733, -5.2046, -6.4116, -5.9653, -6.118, -6.0688, -4.7514, -6.1126, -5.5382, -5.999, -5.2703, -5.514, -5.7296, -5.8796, -5.4385, -5.9894, -5.4111, -5.7637, -5.701, -5.7376, -5.7982, -5.6937, -5.8228, -5.937, -5.9373], \"loglift\": [30.0, 29.0, 28.0, 27.0, 26.0, 25.0, 24.0, 23.0, 22.0, 21.0, 20.0, 19.0, 18.0, 17.0, 16.0, 15.0, 14.0, 13.0, 12.0, 11.0, 10.0, 9.0, 8.0, 7.0, 6.0, 5.0, 4.0, 3.0, 2.0, 1.0, 1.3085, 1.3042, 1.3029, 1.3025, 1.2999, 1.2987, 1.2978, 1.2965, 1.2962, 1.2961, 1.2944, 1.2933, 1.2933, 1.2916, 1.2911, 1.2901, 1.2897, 1.2894, 1.2892, 1.2892, 1.2887, 1.2886, 1.2882, 1.288, 1.287, 1.287, 1.2869, 1.2867, 1.2864, 1.2861, 1.2855, 1.2851, 1.2731, 1.2833, 1.2845, 1.2794, 1.2733, 1.2365, 1.2752, 1.2748, 1.2167, 1.2602, 1.2692, 1.1856, 1.1557, 1.1396, 1.1983, 1.2312, 1.019, 1.2138, 1.2487, 0.9094, 0.9505, 1.1783, 0.9151, 1.0683, 0.8984, 0.8599, 1.0551, 1.0483, 1.0167, 0.9629, 1.0501, 0.4274, 1.0574, 0.8822, 0.8842, 0.4034, 0.533, 0.6428, 0.1581, 0.524, 0.2272, -0.0891, 0.3367, 0.5057, -0.2227, 0.519, -0.0329, 1.3259, 1.3231, 1.322, 1.3207, 1.3201, 1.3189, 1.3187, 1.3163, 1.3159, 1.3159, 1.3156, 1.3156, 1.3151, 1.3149, 1.3147, 1.3137, 1.3133, 1.3124, 1.3109, 1.3109, 1.3107, 1.3103, 1.3094, 1.3091, 1.3087, 1.3086, 1.3086, 1.3077, 1.307, 1.3056, 1.3043, 1.3003, 1.3046, 1.2969, 1.2736, 1.2959, 1.2777, 1.3006, 1.2998, 1.2323, 1.2802, 1.2819, 1.1722, 1.1666, 1.2338, 1.1726, 1.2418, 1.268, 0.9856, 0.9983, 1.0826, 0.8977, 1.0534, 0.7968, 1.1777, 0.6232, 0.8787, 0.9294, 0.61, 0.7534, 0.4864, 0.9211, 0.8177, 0.1133, 0.5082, 0.8559, 1.051, 0.634, 0.8486, 0.2624, 0.125, 0.4161, -0.8233, 1.4005, 1.3978, 1.3968, 1.3962, 1.3954, 1.3954, 1.3954, 1.3944, 1.3937, 1.393, 1.3922, 1.3912, 1.3907, 1.3901, 1.3896, 1.3888, 1.3887, 1.3887, 1.3879, 1.3879, 1.3877, 1.3875, 1.3865, 1.386, 1.3859, 1.3857, 1.3853, 1.3851, 1.3847, 1.384, 1.3812, 1.3837, 1.3815, 1.3836, 1.3612, 1.3615, 1.3786, 1.3715, 1.3026, 1.3613, 1.3014, 1.2518, 1.2845, 1.3541, 1.1777, 1.1133, 1.3384, 1.2152, 1.3069, 1.2169, 1.0202, 1.0518, 1.0467, 1.1816, 1.3486, 1.2612, 1.1356, 1.3021, 0.445, 0.9958, 0.9004, 0.9495, 0.8641, 0.7761, 0.8148, 0.7381, 0.8598, 0.0366, 0.6023, 0.7373, 0.5748, 0.3129, -0.492, 1.4844, 1.4802, 1.4788, 1.4779, 1.4774, 1.4763, 1.4754, 1.4751, 1.4742, 1.4733, 1.4728, 1.4717, 1.4717, 1.4716, 1.4714, 1.4711, 1.4698, 1.4693, 1.4681, 1.4669, 1.466, 1.4659, 1.4657, 1.4652, 1.465, 1.4649, 1.4649, 1.4647, 1.4641, 1.4639, 1.4619, 1.4635, 1.4615, 1.4433, 1.452, 1.4175, 1.4194, 1.4547, 1.4357, 1.432, 1.4178, 1.2228, 1.4016, 1.2815, 1.3755, 1.1934, 1.246, 1.2739, 1.2913, 0.6579, 1.206, 0.2237, 0.8105, 0.581, 0.4171, 0.5869, 0.0456, 0.2974, 0.5582, 0.5426]}, \"token.table\": {\"Topic\": [1, 2, 3, 1, 2, 4, 1, 2, 3, 4, 4, 3, 1, 2, 1, 3, 4, 2, 3, 3, 4, 2, 1, 2, 3, 1, 2, 3, 4, 1, 2, 3, 4, 1, 4, 1, 2, 3, 3, 3, 1, 2, 3, 4, 2, 3, 4, 1, 2, 4, 1, 2, 3, 3, 1, 1, 2, 3, 4, 3, 1, 2, 3, 3, 1, 2, 4, 3, 1, 2, 3, 4, 1, 2, 3, 4, 2, 3, 1, 2, 4, 1, 2, 1, 2, 1, 2, 3, 4, 1, 2, 3, 4, 1, 2, 4, 2, 4, 3, 1, 3, 4, 2, 1, 4, 1, 2, 3, 4, 2, 1, 2, 4, 2, 1, 3, 1, 2, 3, 4, 1, 3, 1, 2, 3, 4, 1, 2, 3, 4, 2, 3, 1, 2, 3, 4, 2, 2, 4, 3, 4, 1, 2, 3, 4, 1, 2, 2, 3, 4, 1, 2, 3, 4, 1, 2, 3, 4, 1, 4, 1, 3, 4, 1, 2, 3, 4, 4, 1, 3, 1, 4, 1, 2, 3, 1, 3, 1, 1, 2, 3, 4, 1, 4, 1, 2, 4, 2, 3, 2, 1, 3, 1, 2, 3, 4, 1, 2, 4, 1, 2, 1, 1, 1, 2, 3, 4, 1, 3, 4, 1, 2, 3, 4, 1, 2, 4, 3, 1, 2, 3, 4, 1, 3, 4, 1, 2, 3, 4, 3, 2, 3, 4, 1, 1, 3, 4, 1, 3, 1, 2, 3, 4, 1, 2, 3, 4, 4, 1, 2, 1, 1, 2, 3, 4, 1, 1, 2, 3, 1, 2, 3, 4, 1, 3, 2, 3, 4, 2, 1, 2, 2, 3, 3, 1, 4, 3, 1, 2, 3, 4, 2, 1, 4, 1, 2, 3, 4, 4, 2, 2, 1, 2, 3, 4, 1, 3, 1, 2, 3, 4, 4, 3, 1, 3, 4, 1, 3, 4, 2, 3, 2, 1, 2, 3, 4, 1, 2, 3, 4, 3, 3, 1, 3, 1, 2, 3, 3, 1, 2, 1, 2, 3, 4, 1, 2, 3, 4, 1, 2, 3, 1, 2, 4, 1, 4, 2, 1, 2, 3, 4, 3, 1, 2, 3, 4, 1, 2, 3, 4, 1, 2, 3, 1, 2, 3, 4, 2, 4, 4, 1, 2, 4, 1, 2, 3, 4, 2, 1, 1, 1, 1, 2, 3, 4, 3, 4, 4, 1, 1, 2, 3, 4, 3, 2, 1, 2, 3, 4, 4, 1, 3, 2, 3, 4, 1, 3, 1, 4, 2, 3, 4, 1, 2, 3, 4, 1, 2, 3, 4, 4, 3, 1, 3, 4, 3, 4, 3, 1, 2, 3, 4, 2, 4, 1, 1, 2, 3, 4, 4, 1, 2, 3, 4, 2, 3, 4, 1, 4, 1, 4, 2, 3, 1, 2, 3, 4, 1, 2, 3, 4, 3, 1, 2, 3, 1, 2, 3, 1, 2, 3, 4, 2, 2, 4, 1, 2, 3, 4, 1, 4, 3, 4, 2, 3, 2, 4, 1, 2, 3, 2, 3, 4, 1, 4, 1, 2, 3, 4, 1, 2, 3, 4, 1, 2, 4, 1, 2, 3, 2, 1, 2, 2, 1, 3, 1, 3, 1, 3, 4, 3, 4, 4, 4, 2, 1, 2, 3, 4, 1, 2, 4, 1, 4, 1, 3, 4, 3, 4, 3, 3, 1, 4, 3, 4, 1, 2, 3, 4, 2, 2, 1, 2, 3, 4, 1, 3, 1, 2, 4, 1, 1, 2, 3, 4, 1, 2, 3, 4, 1, 2, 3, 4, 1, 2, 1, 2, 3, 4, 2, 1, 2, 3, 4, 2, 4, 1, 1, 1, 2, 3, 4, 1, 2, 3, 4, 2, 3, 4, 1, 2, 3, 4, 1, 2, 2, 3, 1, 2, 2], \"Freq\": [0.047845479261915735, 0.9409610921510095, 0.015948493087305247, 0.035703767183362455, 0.16066695232513103, 0.8122607034214958, 0.05896249128809617, 0.013102775841799148, 0.8975401451632417, 0.026205551683598297, 0.9667287049204428, 0.9545049730249153, 0.02613602571049337, 0.9670329512882546, 0.19495005551838956, 0.05198668147157055, 0.753806881337773, 0.9466425432079913, 0.04207300192035517, 0.9596537402054799, 0.9568431524658056, 0.9631709105695905, 0.1897472972154261, 0.010541516511968116, 0.7906137383976087, 0.020575909363216724, 0.020575909363216724, 0.9464918307079694, 0.04115181872643345, 0.01751835152654789, 0.256935822389369, 0.44379823867254653, 0.28029362442476624, 0.9592177441395685, 0.022838517717608774, 0.3362071020614494, 0.3312628799723104, 0.3312628799723104, 0.9843130597362652, 0.973312895960646, 0.04763333877218627, 0.3420939784547923, 0.17321214098976825, 0.4330303524744206, 0.018010647311876033, 0.9005323655938017, 0.07204258924750413, 0.9696288185500462, 0.02308640044166777, 0.02308640044166777, 0.013455453769047917, 0.96879267137145, 0.013455453769047917, 0.9873670223295846, 0.9714815935667825, 0.21833909180846603, 0.598671703345794, 0.06338876858955465, 0.11973434066915879, 0.9622834956716826, 0.9105291710444587, 0.016861651315638125, 0.0674466052625525, 0.9818462372707204, 0.01913622337257905, 0.9376749452563733, 0.0382724467451581, 0.981299683090247, 0.007338997836430354, 0.05871198269144283, 0.007338997836430354, 0.9320527252266549, 0.20349230470869217, 0.4864737909442172, 0.1685170648368857, 0.14308052674829919, 0.9557839961155025, 0.9777411641204851, 0.840966358139929, 0.12386326205161745, 0.03259559527674143, 0.059572767489542856, 0.9333066906695048, 0.9395467375222127, 0.04270666988737331, 0.2450163190809372, 0.3492785825196339, 0.005213113171934834, 0.4014097142389822, 0.2607084262551217, 0.029293081601699068, 0.6766701849992485, 0.03515169792203888, 0.021453448511427595, 0.17162758809142076, 0.8045043191785347, 0.9871019851086782, 0.9608415802395047, 0.9903098507293245, 0.8505787234664691, 0.14059152453991225, 0.0070295762269956125, 0.972326744276491, 0.17754141594608422, 0.8242994311782482, 0.2387453290641056, 0.2581030584476817, 0.11614637630145677, 0.3936071641327146, 0.9825350772161829, 0.35341332743578957, 0.6337066560917606, 0.012186666463303087, 0.9830364013902255, 0.9746412039726307, 0.9833770004490404, 0.1605809712272683, 0.43023580970324715, 0.17573011945625588, 0.2363267123722062, 0.9833421067454882, 0.009736060462826615, 0.03458571130442684, 0.0899228493915098, 0.7920127888713747, 0.0864642782610671, 0.67016334301296, 0.04188520893831, 0.2745808141511433, 0.013961736312769998, 0.07082778612001658, 0.9207612195602156, 0.01074773059279396, 0.02149546118558792, 0.7630888720883712, 0.21495461185587922, 0.979763060928634, 0.9689220959302778, 0.017616765380550507, 0.01582834616243866, 0.9813574620711969, 0.6948654078317987, 0.009650908442108317, 0.28952725326324946, 0.009650908442108317, 0.0167265821668216, 0.9868683478424743, 0.9019801239342597, 0.06850481953931087, 0.022834939846436957, 0.9640305589634379, 0.031090401988235955, 0.07772600497058989, 0.8860764566647247, 0.705276652235767, 0.014541786644036433, 0.2617521595926558, 0.02181267996605465, 0.017407940050546446, 0.9748446428306009, 0.7819616265458355, 0.1811862305411082, 0.028608352190701295, 0.0072125046419325, 0.8510755477480351, 0.08655005570319001, 0.05770003713546, 0.967055705629102, 0.9560998388877416, 0.9655998688316524, 0.9673515915016585, 0.9928740691183827, 0.014713593410022457, 0.9122427914213923, 0.07356796705011229, 0.8764522558316907, 0.12520746511881295, 0.9814356119703922, 0.10976898252641802, 0.08944139316967394, 0.6952035560006474, 0.10163794678372039, 0.7420431623805909, 0.25846447228986874, 0.2313147893288384, 0.025007004251766312, 0.7439583764900478, 0.09029576459652623, 0.9029576459652623, 0.9912369938377034, 0.016040337762517315, 0.9784606035135561, 0.45520245464753034, 0.24357324327631008, 0.09982509970340578, 0.19565719541867532, 0.08502354824698985, 0.9182543210674904, 0.9716684004995623, 0.02626517787491465, 0.971811581371842, 0.9896174682977668, 0.9825477647093026, 0.17598313221930453, 0.09181728637528933, 0.627418123564477, 0.09946872690656343, 0.021493571795042774, 0.945717158981882, 0.021493571795042774, 0.23382438103063163, 0.5591452589862931, 0.17790985513200233, 0.030498832308343257, 0.01016836714226561, 0.01016836714226561, 0.9761632456574986, 0.9817986656606396, 0.15081758911687698, 0.4021802376450053, 0.30163517823375396, 0.14523175248291859, 0.768608851585799, 0.19683885223538752, 0.037493114711502386, 0.3358670479873838, 0.5853682836351547, 0.07357087717818883, 0.006397467580712073, 0.9735307467026448, 0.9753285474097824, 0.023222108271661483, 0.9943028983855942, 0.9740542810694025, 0.4511246609289199, 0.1588467115946901, 0.38758597629104385, 0.9799262326640432, 0.9767657683825535, 0.16635160718770284, 0.7153119109071222, 0.09426591073969828, 0.027725267864617143, 0.3701057994532776, 0.49556539248828696, 0.012545959303500937, 0.12545959303500936, 0.9787379590944308, 0.977859523066966, 0.9793255388410063, 0.9572736985641399, 0.03968725700884076, 0.25796717055746493, 0.6945269976547133, 0.00992181425221019, 0.9578065105120588, 0.1341613848700942, 0.4268771336775725, 0.432975378444395, 0.05178723227327766, 0.4272446662545407, 0.5113989186986169, 0.012946808068319415, 0.9870687164440431, 0.01265472713389799, 0.85592321582603, 0.014265386930433834, 0.12838848237390452, 0.9719720386003479, 0.043130978577618974, 0.9488815287076174, 0.026118052651539766, 0.9663679481069714, 0.9785775496042102, 0.9596330886814717, 0.03998471202839465, 0.9915718026915383, 0.007051282806964305, 0.007051282806964305, 0.059935903859196595, 0.9272436891158061, 0.9893190359091245, 0.9801417533963904, 0.9895471804802289, 0.018967875068677375, 0.018967875068677375, 0.6006493771747836, 0.36038962630487015, 0.9929422626918529, 0.9713596873530315, 0.956750753422931, 0.6649882683335038, 0.10318783474140575, 0.2140192127969897, 0.015287086628356407, 0.9702564613975073, 0.019801152273418516, 0.044593716713305954, 0.026756230027983573, 0.882955590923458, 0.044593716713305954, 0.967789517857317, 0.981846373917981, 0.03192410984006863, 0.015962054920034316, 0.9417612402820247, 0.018527907051582422, 0.037055814103164844, 0.9449232596307034, 0.025882863926837838, 0.957665965293, 0.9764121991770734, 0.08363112322863064, 0.009292347025403404, 0.8920653144387268, 0.009292347025403404, 0.21433600406343312, 0.036437120690783635, 0.7416025740594786, 0.006430080121902994, 0.9851905284064542, 0.9892589436950119, 0.9634791158359449, 0.02293997894847488, 0.022227180880019032, 0.666815426400571, 0.3037714720269268, 0.9702242721918316, 0.9910285528758518, 0.9853961880264615, 0.6573946249945919, 0.2932991403822025, 0.0050568817307276295, 0.045511935576548666, 0.6461064158544793, 0.2384440344224864, 0.07691743045886658, 0.030766972183546633, 0.005401882630367977, 0.14585083101993537, 0.8534974555981404, 0.9092760848827924, 0.07131577136335628, 0.01782894284083907, 0.7406391966919139, 0.2567549215198635, 0.9832223833218401, 0.18154578187903178, 0.02094759021681136, 0.3002487931076295, 0.5027421652034726, 0.9627071652784942, 0.24593523476231938, 0.49187046952463875, 0.14880115044442854, 0.1136675454783829, 0.008256063453870538, 0.008256063453870538, 0.016512126907741075, 0.9742154875567235, 0.8902285199684428, 0.012030115134708686, 0.09624092107766949, 0.5074179564476231, 0.2753012316896678, 0.01079612673292815, 0.20512640792563486, 0.02542013488820896, 0.9659651257519405, 0.9764262440121659, 0.7655956031106106, 0.05172943264260882, 0.17588007098487, 0.2138356707929786, 0.24851172551616435, 0.1329248764388786, 0.40455397177050006, 0.9726110852549148, 0.9811270679706948, 0.9757474707771133, 0.9791559267101327, 0.1116791843136001, 0.8487618007833607, 0.011167918431360009, 0.022335836862720018, 0.014349282596846997, 0.9901004991824428, 0.9778195695562408, 0.9832939198929014, 0.4012077484127942, 0.14465313378148362, 0.1719461778911975, 0.2811183543300531, 0.9775937570376978, 0.9876307505643065, 0.4112614647209723, 0.11546956509473454, 0.37962596743474364, 0.09332471699437449, 0.971660721001384, 0.9646636969677334, 0.02607199180993874, 0.042041188815887885, 0.16816475526355154, 0.7819661119755146, 0.8745808860836352, 0.11887507189486303, 0.9654297500568653, 0.021453994445708117, 0.7761205472976346, 0.046197651624859205, 0.17555107617446497, 0.9047340268889993, 0.038499320293148905, 0.048124150366436136, 0.009624830073287226, 0.4464900190577027, 0.20164065376799478, 0.14402903840571055, 0.20644162171485178, 0.9894207264878063, 0.9752523547301617, 0.7690121761483903, 0.18038557218295576, 0.047469887416567304, 0.028314791076146387, 0.9627028965889772, 0.9866117511839251, 0.0376929653605111, 0.00753859307210222, 0.9498627270848797, 0.00753859307210222, 0.06955383168313527, 0.9215882698015423, 0.9810019412389852, 0.9742197744599906, 0.614371754904824, 0.24574870196192958, 0.1404278296925312, 0.9840311020237485, 0.17358938881363115, 0.6453964455891414, 0.124628279148248, 0.05786312960454371, 0.024844761208021548, 0.9689456871128405, 0.012422380604010774, 0.9814408957088412, 0.9716068089251864, 0.017344123242764638, 0.9712709015948197, 0.8504993073954867, 0.1490565796466317, 0.051386490212784436, 0.32116556382990274, 0.5780980148938248, 0.04496317893618638, 0.9558043572685117, 0.014592432935397125, 0.02188864940309569, 0.9624895872082152, 0.9607520664652172, 0.04322437685741531, 0.010806094214353827, 0.9509362908631367, 0.04508679522811511, 0.13526038568434534, 0.820579673151695, 0.6475323215332268, 0.2849142214746198, 0.03237661607666134, 0.03237661607666134, 0.9763364237630506, 0.757580671814095, 0.23745065832979098, 0.3142968644600855, 0.2961144012268574, 0.2519569905175892, 0.13766722162301265, 0.965554026548996, 0.9823837693281092, 0.985332850709619, 0.022393928425218614, 0.3407516839781621, 0.6577299946555222, 0.04013335535919902, 0.9551738575489367, 0.021570075893082824, 0.9598683772421858, 0.010785037946541412, 0.6204839808450323, 0.03353967464027202, 0.3437816650627882, 0.02648207080797976, 0.9665955844912613, 0.025357555305441544, 0.7522741407280992, 0.008452518435147181, 0.21131296087867954, 0.24758829003117513, 0.7073951143747861, 0.030316933473205118, 0.020211288982136744, 0.01881025020561799, 0.009405125102808994, 0.9781330106921353, 0.7766923984233332, 0.22653528287347216, 0.9590133839773978, 0.9808006980302921, 0.9733445345363999, 0.9910761118969011, 0.9729990277911293, 0.016420229153832126, 0.9687935200760955, 0.9593130569906266, 0.025245080447121752, 0.01510508272811125, 0.8609897155023413, 0.12084066182489, 0.9424517773266431, 0.04097616423159318, 0.9903755944690705, 0.9843543989354494, 0.9808785996586246, 0.1525052154957325, 0.2880654070474947, 0.5309440835777354, 0.028241706573283797, 0.6341297868517585, 0.06208263647499733, 0.3015442343071299, 0.9194083918666244, 0.06953508846050101, 0.017875472845255775, 0.0715018913810231, 0.9116491151080446, 0.020979623824763156, 0.9650626959391052, 0.972566536076512, 0.9727230374236034, 0.02585656007949052, 0.9825492830206397, 0.018474604933794977, 0.9791540614911337, 0.04675776754366123, 0.015585922514553744, 0.8182609320140716, 0.11689441885915308, 0.9926530638194349, 0.9945117348083614, 0.02843475199503214, 0.14928244797391874, 0.5118255359105786, 0.3127822719453536, 0.021878491666653874, 0.9626536333327704, 0.9764871183987454, 0.9656192215206614, 0.01636642748340104, 0.9848700933255053, 0.32590888400102574, 0.26164516039518965, 0.07344425554952692, 0.339679681916562, 0.3769339062044769, 0.29697822913079996, 0.1561039409533692, 0.16752618053532306, 0.44883189935443357, 0.31682251719136484, 0.1320093821630687, 0.10032713044393221, 0.9285125598074389, 0.04529329560036287, 0.45072439892277466, 0.30208124608654047, 0.06712916579700899, 0.1822077357347387, 0.9916909395042345, 0.17769691827198902, 0.4370383665608379, 0.17289429885923258, 0.21131525416128424, 0.011074436925861221, 0.9856248864016487, 0.9948321029471109, 0.9912633210915585, 0.14563192745857487, 0.06898354458564072, 0.022994514861880245, 0.7626514095856948, 0.2744174088965774, 0.054883481779315485, 0.5488348177931548, 0.12348783400345983, 0.6619498811798445, 0.22623603533994685, 0.10892846145997441, 0.10655735984729045, 0.016393439976506222, 0.5737703991777178, 0.295081919577112, 0.9668949033256012, 0.02479217700834875, 0.9812163028660489, 0.02230037051968293, 0.02064248583729149, 0.9701968343527001, 0.9790333391538695], \"Term\": [\"abbott\", \"abbott\", \"abbott\", \"abc\", \"abc\", \"abc\", \"accus\", \"accus\", \"accus\", \"accus\", \"ad\", \"africa\", \"age\", \"age\", \"air\", \"air\", \"air\", \"airport\", \"airport\", \"andrew\", \"angri\", \"ask\", \"assault\", \"assault\", \"assault\", \"asylum\", \"asylum\", \"asylum\", \"asylum\", \"attack\", \"attack\", \"attack\", \"attack\", \"attempt\", \"attempt\", \"australian\", \"australian\", \"australian\", \"author\", \"await\", \"back\", \"back\", \"back\", \"back\", \"beat\", \"beat\", \"beat\", \"blast\", \"blast\", \"blast\", \"blaze\", \"blaze\", \"blaze\", \"blow\", \"board\", \"boost\", \"boost\", \"boost\", \"boost\", \"breach\", \"break\", \"break\", \"break\", \"brother\", \"budget\", \"budget\", \"budget\", \"bulldog\", \"busi\", \"busi\", \"busi\", \"busi\", \"call\", \"call\", \"call\", \"call\", \"campbel\", \"candid\", \"car\", \"car\", \"car\", \"care\", \"care\", \"central\", \"central\", \"chang\", \"chang\", \"chang\", \"chang\", \"charg\", \"charg\", \"charg\", \"charg\", \"child\", \"child\", \"child\", \"clash\", \"class\", \"coalit\", \"coast\", \"coast\", \"coast\", \"collaps\", \"commun\", \"commun\", \"concern\", \"concern\", \"concern\", \"concern\", \"condit\", \"continu\", \"continu\", \"continu\", \"control\", \"controversi\", \"convict\", \"council\", \"council\", \"council\", \"council\", \"countri\", \"countri\", \"court\", \"court\", \"court\", \"court\", \"crash\", \"crash\", \"crash\", \"crash\", \"critic\", \"critic\", \"cup\", \"cup\", \"cup\", \"cup\", \"dam\", \"damag\", \"damag\", \"darwin\", \"darwin\", \"death\", \"death\", \"death\", \"death\", \"defenc\", \"defenc\", \"delay\", \"delay\", \"delay\", \"dept\", \"develop\", \"develop\", \"develop\", \"die\", \"die\", \"die\", \"die\", \"doubt\", \"doubt\", \"driver\", \"driver\", \"driver\", \"drug\", \"drug\", \"drug\", \"drug\", \"earli\", \"economi\", \"edg\", \"emerg\", \"evid\", \"expect\", \"expect\", \"expect\", \"export\", \"export\", \"eye\", \"face\", \"face\", \"face\", \"face\", \"fall\", \"fall\", \"farmer\", \"farmer\", \"farmer\", \"fatal\", \"fatal\", \"figur\", \"fine\", \"fine\", \"fire\", \"fire\", \"fire\", \"fire\", \"firefight\", \"firefight\", \"fli\", \"food\", \"food\", \"forest\", \"form\", \"found\", \"found\", \"found\", \"found\", \"front\", \"front\", \"front\", \"fund\", \"fund\", \"fund\", \"fund\", \"futur\", \"futur\", \"futur\", \"gain\", \"get\", \"get\", \"get\", \"get\", \"gold\", \"gold\", \"gold\", \"govt\", \"govt\", \"govt\", \"govt\", \"gp\", \"grain\", \"grain\", \"grant\", \"great\", \"group\", \"group\", \"group\", \"hand\", \"hawk\", \"health\", \"health\", \"health\", \"health\", \"help\", \"help\", \"help\", \"help\", \"higher\", \"highway\", \"hill\", \"histori\", \"hit\", \"hit\", \"hit\", \"hit\", \"holiday\", \"home\", \"home\", \"home\", \"hospit\", \"hospit\", \"hospit\", \"hospit\", \"hour\", \"hour\", \"hunter\", \"hunter\", \"hunter\", \"illeg\", \"impact\", \"impact\", \"indonesian\", \"indonesian\", \"injuri\", \"inquest\", \"inquest\", \"interest\", \"interview\", \"interview\", \"interview\", \"interview\", \"iraq\", \"iraqi\", \"island\", \"jail\", \"jail\", \"jail\", \"jail\", \"join\", \"jump\", \"keen\", \"kill\", \"kill\", \"kill\", \"kill\", \"korea\", \"korea\", \"labor\", \"labor\", \"labor\", \"labor\", \"last\", \"level\", \"liber\", \"liber\", \"liber\", \"link\", \"link\", \"link\", \"list\", \"list\", \"major\", \"make\", \"make\", \"make\", \"make\", \"man\", \"man\", \"man\", \"man\", \"marin\", \"mark\", \"match\", \"match\", \"may\", \"may\", \"may\", \"member\", \"mid\", \"militari\", \"mine\", \"mine\", \"mine\", \"mine\", \"minist\", \"minist\", \"minist\", \"minist\", \"miss\", \"miss\", \"miss\", \"mother\", \"mother\", \"mother\", \"murder\", \"murder\", \"music\", \"nation\", \"nation\", \"nation\", \"nation\", \"neglect\", \"new\", \"new\", \"new\", \"new\", \"news\", \"news\", \"news\", \"news\", \"north\", \"north\", \"north\", \"nsw\", \"nsw\", \"nsw\", \"nsw\", \"nz\", \"nz\", \"oil\", \"one\", \"one\", \"one\", \"open\", \"open\", \"open\", \"open\", \"option\", \"packag\", \"palestinian\", \"parent\", \"pay\", \"pay\", \"pay\", \"pay\", \"perth\", \"perth\", \"peter\", \"pilbara\", \"plan\", \"plan\", \"plan\", \"plan\", \"plane\", \"point\", \"polic\", \"polic\", \"polic\", \"polic\", \"policeman\", \"posit\", \"posit\", \"power\", \"power\", \"power\", \"probe\", \"probe\", \"promis\", \"promis\", \"protest\", \"protest\", \"protest\", \"public\", \"public\", \"public\", \"public\", \"qld\", \"qld\", \"qld\", \"qld\", \"quak\", \"quarter\", \"question\", \"question\", \"question\", \"rail\", \"rail\", \"rape\", \"rate\", \"rate\", \"rate\", \"rate\", \"red\", \"red\", \"reef\", \"refus\", \"reject\", \"reject\", \"reject\", \"replac\", \"report\", \"report\", \"report\", \"report\", \"rescu\", \"rescu\", \"rescu\", \"research\", \"revamp\", \"reveal\", \"reveal\", \"review\", \"review\", \"rise\", \"rise\", \"rise\", \"rise\", \"road\", \"road\", \"road\", \"roar\", \"robberi\", \"run\", \"run\", \"run\", \"rural\", \"rural\", \"rural\", \"sa\", \"sa\", \"sa\", \"sa\", \"sack\", \"sale\", \"sale\", \"say\", \"say\", \"say\", \"say\", \"scam\", \"se\", \"sea\", \"sea\", \"search\", \"search\", \"second\", \"second\", \"secur\", \"secur\", \"secur\", \"seek\", \"seek\", \"seek\", \"sentenc\", \"sentenc\", \"servic\", \"servic\", \"servic\", \"servic\", \"set\", \"set\", \"set\", \"set\", \"sex\", \"sex\", \"sex\", \"share\", \"share\", \"sink\", \"slam\", \"slow\", \"sport\", \"spring\", \"stab\", \"stab\", \"stage\", \"stage\", \"star\", \"star\", \"star\", \"stock\", \"stock\", \"studi\", \"summit\", \"survivor\", \"sydney\", \"sydney\", \"sydney\", \"sydney\", \"take\", \"take\", \"take\", \"talk\", \"talk\", \"tasmanian\", \"tasmanian\", \"tasmanian\", \"team\", \"team\", \"theft\", \"third\", \"thousand\", \"thousand\", \"titl\", \"titl\", \"top\", \"top\", \"top\", \"top\", \"traffic\", \"tree\", \"trial\", \"trial\", \"trial\", \"trial\", \"uk\", \"uk\", \"uni\", \"unit\", \"unit\", \"updat\", \"urg\", \"urg\", \"urg\", \"urg\", \"us\", \"us\", \"us\", \"us\", \"wa\", \"wa\", \"wa\", \"wa\", \"wallabi\", \"wallabi\", \"warn\", \"warn\", \"warn\", \"warn\", \"wast\", \"water\", \"water\", \"water\", \"water\", \"weather\", \"weather\", \"west\", \"western\", \"win\", \"win\", \"win\", \"win\", \"woman\", \"woman\", \"woman\", \"woman\", \"work\", \"work\", \"work\", \"world\", \"world\", \"world\", \"world\", \"worri\", \"worri\", \"young\", \"young\", \"youth\", \"youth\", \"zealand\"]}, \"R\": 30, \"lambda.step\": 0.01, \"plot.opts\": {\"xlab\": \"PC1\", \"ylab\": \"PC2\"}, \"topic.order\": [3, 4, 2, 1]};\n",
       "\n",
       "function LDAvis_load_lib(url, callback){\n",
       "  var s = document.createElement('script');\n",
       "  s.src = url;\n",
       "  s.async = true;\n",
       "  s.onreadystatechange = s.onload = callback;\n",
       "  s.onerror = function(){console.warn(\"failed to load library \" + url);};\n",
       "  document.getElementsByTagName(\"head\")[0].appendChild(s);\n",
       "}\n",
       "\n",
       "if(typeof(LDAvis) !== \"undefined\"){\n",
       "   // already loaded: just create the visualization\n",
       "   !function(LDAvis){\n",
       "       new LDAvis(\"#\" + \"ldavis_el301871402037669838089061936166\", ldavis_el301871402037669838089061936166_data);\n",
       "   }(LDAvis);\n",
       "}else if(typeof define === \"function\" && define.amd){\n",
       "   // require.js is available: use it to load d3/LDAvis\n",
       "   require.config({paths: {d3: \"https://d3js.org/d3.v5\"}});\n",
       "   require([\"d3\"], function(d3){\n",
       "      window.d3 = d3;\n",
       "      LDAvis_load_lib(\"https://cdn.jsdelivr.net/gh/bmabey/pyLDAvis@3.3.1/pyLDAvis/js/ldavis.v3.0.0.js\", function(){\n",
       "        new LDAvis(\"#\" + \"ldavis_el301871402037669838089061936166\", ldavis_el301871402037669838089061936166_data);\n",
       "      });\n",
       "    });\n",
       "}else{\n",
       "    // require.js not available: dynamically load d3 & LDAvis\n",
       "    LDAvis_load_lib(\"https://d3js.org/d3.v5.js\", function(){\n",
       "         LDAvis_load_lib(\"https://cdn.jsdelivr.net/gh/bmabey/pyLDAvis@3.3.1/pyLDAvis/js/ldavis.v3.0.0.js\", function(){\n",
       "                 new LDAvis(\"#\" + \"ldavis_el301871402037669838089061936166\", ldavis_el301871402037669838089061936166_data);\n",
       "            })\n",
       "         });\n",
       "}\n",
       "</script>"
      ],
      "text/plain": [
       "PreparedData(topic_coordinates=              x         y  topics  cluster       Freq\n",
       "topic                                                \n",
       "2     -0.079887 -0.025716       1        1  26.803633\n",
       "3     -0.018082 -0.194917       2        1  26.359923\n",
       "1     -0.129154  0.156310       3        1  24.349152\n",
       "0      0.227122  0.064323       4        1  22.487291, topic_info=          Term        Freq       Total Category  logprob  loglift\n",
       "130  interview  283.000000  283.000000  Default  30.0000  30.0000\n",
       "139        man  466.000000  466.000000  Default  29.0000  29.0000\n",
       "312      court  289.000000  289.000000  Default  28.0000  28.0000\n",
       "500        win  260.000000  260.000000  Default  27.0000  27.0000\n",
       "86       charg  341.000000  341.000000  Default  26.0000  26.0000\n",
       "..         ...         ...         ...      ...      ...      ...\n",
       "340       open   69.974332  173.030065   Topic4  -5.7982   0.5869\n",
       "439    council   77.681818  330.051560   Topic4  -5.6937   0.0456\n",
       "520       take   68.271461  225.505887   Topic4  -5.8228   0.2974\n",
       "243    concern   60.901542  154.976854   Topic4  -5.9370   0.5582\n",
       "27       group   60.888505  157.384435   Topic4  -5.9373   0.5426\n",
       "\n",
       "[315 rows x 6 columns], token_table=      Topic      Freq     Term\n",
       "term                          \n",
       "1103      1  0.047845   abbott\n",
       "1103      2  0.940961   abbott\n",
       "1103      3  0.015948   abbott\n",
       "496       1  0.035704      abc\n",
       "496       2  0.160667      abc\n",
       "...     ...       ...      ...\n",
       "255       2  0.981216    young\n",
       "255       3  0.022300    young\n",
       "2724      1  0.020642    youth\n",
       "2724      2  0.970197    youth\n",
       "3465      2  0.979033  zealand\n",
       "\n",
       "[610 rows x 3 columns], R=30, lambda_step=0.01, plot_opts={'xlab': 'PC1', 'ylab': 'PC2'}, topic_order=[3, 4, 2, 1])"
      ]
     },
     "execution_count": 23,
     "metadata": {},
     "output_type": "execute_result"
    }
   ],
   "source": [
    "# TODO: show visualization results of the LDA\n",
    "import pyLDAvis\n",
    "import pyLDAvis.gensim_models\n",
    "\n",
    "pyLDAvis.enable_notebook()\n",
    "\n",
    "vis = pyLDAvis.gensim_models.prepare(lda, corpus, dictionary)\n",
    "vis\n"
   ]
  },
  {
   "cell_type": "markdown",
   "metadata": {},
   "source": [
    "Depending on your results, you can try to fine tune the algorithm: number of topics, hyperparameters...\n",
    "And check with others their results."
   ]
  }
 ],
 "metadata": {
  "kernelspec": {
   "display_name": "Python 3 (ipykernel)",
   "language": "python",
   "name": "python3"
  },
  "language_info": {
   "codemirror_mode": {
    "name": "ipython",
    "version": 3
   },
   "file_extension": ".py",
   "mimetype": "text/x-python",
   "name": "python",
   "nbconvert_exporter": "python",
   "pygments_lexer": "ipython3",
   "version": "3.9.7"
  },
  "toc": {
   "base_numbering": 1,
   "nav_menu": {},
   "number_sections": true,
   "sideBar": true,
   "skip_h1_title": false,
   "title_cell": "Table of Contents",
   "title_sidebar": "Contents",
   "toc_cell": false,
   "toc_position": {},
   "toc_section_display": true,
   "toc_window_display": false
  }
 },
 "nbformat": 4,
 "nbformat_minor": 2
}
